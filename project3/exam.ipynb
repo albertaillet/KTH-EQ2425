{
 "cells": [
  {
   "cell_type": "markdown",
   "metadata": {},
   "source": [
    "- Convolution layer 1: Filter size: 5 × 5, stride: 1, zero-padding: 2, number of filters: 36\n",
    "- ReLu \n",
    "- Batch Normalization Layer 1\n",
    "- Pooling Layer 1: Max pooling, filter size: 2 × 2, stride: 2\n",
    "- Convolution layer 2: Filter size: 3 × 3, stride: 1, zero-padding: 1, number of\n",
    "filters: 48\n",
    "- ReLu\n",
    "- Batch Normalization Layer 2\n",
    "- Pooling Layer 2: Max pooling, filter size: 2 × 2, stride: 2\n",
    "- Fully connected layer 1 Output size: 512\n",
    "- Fully connected layer 2: Output size: 5\n",
    "- Softmax function"
   ]
  },
  {
   "cell_type": "code",
   "execution_count": null,
   "metadata": {},
   "outputs": [],
   "source": [
    "from tensorflow.keras.models import Sequential\n",
    "from tensorflow.keras.layers import Input, Conv2D, Activation, BatchNormalization, MaxPooling2D, Flatten, Dense"
   ]
  },
  {
   "cell_type": "code",
   "execution_count": null,
   "metadata": {},
   "outputs": [],
   "source": [
    "Sequential([\n",
    "    Input(shape=(32, 32, 3)),\n",
    "    Conv2D(kernel_size=(5, 5), strides=1, padding='same', filters=36, use_bias=False),\n",
    "    Activation('relu'),\n",
    "    BatchNormalization(trainable=False),\n",
    "    MaxPooling2D(pool_size=(2, 2), strides=2),\n",
    "    Conv2D(kernel_size=(3, 3), strides=1, padding='same', filters=48, use_bias=False),\n",
    "    Activation('relu'),\n",
    "    BatchNormalization(trainable=False),\n",
    "    MaxPooling2D(pool_size=(2, 2), strides=2),\n",
    "    Flatten(),\n",
    "    Dense(512, use_bias=False),\n",
    "    Dense(5, use_bias=False),\n",
    "    Activation('softmax'),\n",
    "]).summary()"
   ]
  }
 ],
 "metadata": {
  "kernelspec": {
   "display_name": "Python 3.10.4 ('tf-env')",
   "language": "python",
   "name": "python3"
  },
  "language_info": {
   "codemirror_mode": {
    "name": "ipython",
    "version": 3
   },
   "file_extension": ".py",
   "mimetype": "text/x-python",
   "name": "python",
   "nbconvert_exporter": "python",
   "pygments_lexer": "ipython3",
   "version": "3.10.4"
  },
  "orig_nbformat": 4,
  "vscode": {
   "interpreter": {
    "hash": "ba774e50b4cdc1e560c460840dd0cce9b6275d04a71042df5e23c843a274ce49"
   }
  }
 },
 "nbformat": 4,
 "nbformat_minor": 2
}
