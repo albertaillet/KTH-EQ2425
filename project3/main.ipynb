{
  "cells": [
    {
      "cell_type": "markdown",
      "metadata": {
        "id": "view-in-github",
        "colab_type": "text"
      },
      "source": [
        "<a href=\"https://colab.research.google.com/github/albertaillet/KTH-EQ2425/blob/master/project3/main.ipynb\" target=\"_parent\"><img src=\"https://colab.research.google.com/assets/colab-badge.svg\" alt=\"Open In Colab\"/></a>"
      ]
    },
    {
      "cell_type": "code",
      "source": [
        "!pip install wandb --quiet\n",
        "!wandb login"
      ],
      "metadata": {
        "id": "nsLb2bLCuIqY"
      },
      "execution_count": null,
      "outputs": []
    },
    {
      "cell_type": "code",
      "source": [
        "import tensorflow as tf\n",
        "from tensorflow.keras import layers\n",
        "from tensorflow.keras import models\n",
        "from tensorflow.keras.datasets import cifar10"
      ],
      "metadata": {
        "id": "UkOe61L2uL9d"
      },
      "execution_count": null,
      "outputs": []
    },
    {
      "cell_type": "code",
      "source": [
        "(x_train, y_train), (x_test, y_test) = cifar10.load_data()"
      ],
      "metadata": {
        "id": "Yt0dIfJ92Ry-"
      },
      "execution_count": null,
      "outputs": []
    },
    {
      "cell_type": "code",
      "execution_count": null,
      "metadata": {
        "id": "_VfouJcosXgM"
      },
      "outputs": [],
      "source": [
        "import wandb\n",
        "from wandb.keras import WandbCallback\n",
        "\n",
        "wandb.init(project=\"project3\", entity=\"eq2425_2022p3_aillet_bonato\")"
      ]
    },
    {
      "cell_type": "code",
      "source": [
        "wandb.config = {\n",
        "    \"learning_rate\": 1e-3,\n",
        "    \"epochs\": 300,\n",
        "    \"batch_size\": 64,\n",
        "    \"dropout\": False,\n",
        "    \"batch_normalization\": False,\n",
        "    \"data_shuffling\": False,\n",
        "}"
      ],
      "metadata": {
        "id": "82ZnRpKtwuyu"
      },
      "execution_count": null,
      "outputs": []
    },
    {
      "cell_type": "code",
      "source": [
        "model = models.Sequential([\n",
        "    layers.Conv2D(\n",
        "        kernel_size=(5, 5),\n",
        "        strides=1,\n",
        "        padding=\"valid\",\n",
        "        filters=24,\n",
        "        activation='relu',\n",
        "    ),\n",
        "    layers.MaxPooling2D(\n",
        "        pool_size=(2, 2), \n",
        "        strides=2, \n",
        "    ),\n",
        "    layers.Conv2D(\n",
        "        kernel_size=(3, 3),\n",
        "        strides=1,\n",
        "        padding=\"valid\",\n",
        "        filters=48,\n",
        "        activation='relu',\n",
        "    ),\n",
        "    layers.MaxPooling2D(\n",
        "        pool_size=(2, 2), \n",
        "        strides=2, \n",
        "    ),\n",
        "    layers.Conv2D(\n",
        "        kernel_size=(3, 3),\n",
        "        strides=1,\n",
        "        padding=\"valid\",\n",
        "        filters=96,\n",
        "    ),\n",
        "    layers.MaxPooling2D(\n",
        "        pool_size=(2, 2), \n",
        "        strides=2, \n",
        "    ),\n",
        "    layers.Dense(\n",
        "        units=512,\n",
        "        activation=\"relu\"\n",
        "    ),\n",
        "    layers.Dense(\n",
        "        units=10,\n",
        "        activation=\"softmax\"\n",
        "    ),\n",
        "])"
      ],
      "metadata": {
        "id": "Dy9TKxJ3xLJy"
      },
      "execution_count": null,
      "outputs": []
    }
  ],
  "metadata": {
    "kernelspec": {
      "display_name": "Python 3.7.0 ('eq2425-env')",
      "language": "python",
      "name": "python3"
    },
    "language_info": {
      "name": "python",
      "version": "3.7.0"
    },
    "orig_nbformat": 4,
    "vscode": {
      "interpreter": {
        "hash": "34580a2d74eea5cd8fb80eac9254f8f14dbc87e9fab4db93b47e06f6ffb5b751"
      }
    },
    "colab": {
      "provenance": [],
      "include_colab_link": true
    }
  },
  "nbformat": 4,
  "nbformat_minor": 0
}